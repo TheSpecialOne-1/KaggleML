{
  "nbformat": 4,
  "nbformat_minor": 0,
  "metadata": {
    "colab": {
      "provenance": []
    },
    "kernelspec": {
      "name": "python3",
      "display_name": "Python 3"
    },
    "language_info": {
      "name": "python"
    }
  },
  "cells": [
    {
      "cell_type": "code",
      "execution_count": null,
      "metadata": {
        "id": "-8qQtIAkA1tK"
      },
      "outputs": [],
      "source": [
        "import numpy as np\n",
        "import pandas as pd"
      ]
    },
    {
      "cell_type": "code",
      "source": [
        "iowa_file_path = '../input/home-data-for-ml-course/train.csv'\n",
        "\n",
        "home_data = pd.read_csv(iowa_file_path)\n",
        "\n",
        "df=pd.DataFrame(home_data)"
      ],
      "metadata": {
        "id": "d7GpMLGRBEZM"
      },
      "execution_count": null,
      "outputs": []
    },
    {
      "cell_type": "code",
      "source": [
        "avg_lot_size = df['LotArea'].mean()\n",
        "\n",
        "newest_home_age = df['YearBuilt'].max()\n",
        "\n",
        "print(avg_lot_size)\n",
        "print(newest_home_age)"
      ],
      "metadata": {
        "id": "WehGvFGkBMXW"
      },
      "execution_count": null,
      "outputs": []
    }
  ]
}